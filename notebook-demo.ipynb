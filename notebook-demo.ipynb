{
 "cells": [
  {
   "cell_type": "markdown",
   "metadata": {},
   "source": [
    "# Plasma"
   ]
  },
  {
   "cell_type": "markdown",
   "metadata": {},
   "source": [
    "\n",
    "## Jupyter Notebook de démonstration\n",
    "\n",
    "Adaptation du TP5 Testis Vs Ovary, fait dans l'UE1 du M1 MEG\n",
    "\n",
    "Sandrine Caburet, Claire Vandiedonck et Pierre Poulain, novembre 2020"
   ]
  },
  {
   "cell_type": "markdown",
   "metadata": {},
   "source": [
    "---\n",
    "Ceci est un jupyter notebook en R, ce qui signifie que les commandes seront des commandes R directement interprétables par Plasma.\n",
    "\n",
    "__*Utilisation d'un notebook*__\n",
    "\n",
    "- Pour ajouter une nouvelle cellule, cliquez sur l'icône \"+\" dans la barre des menus\n",
    "- Vous pouvez \"cliquer-glisser\" pour bouger une cellule \n",
    "- Vous pouvez choisir le type de cellule dans le petit menu déroulant dans la barre des menus : \n",
    "    - 'Code' pour entrer des lignes de commandes à executer \n",
    "    - 'Markdown cells' pour ajouter simplement du texte, formatable avec quelques signes \n",
    "- Pour executer une cellule 'Code', pressez SHIFT+ENTER ou cliquez sur l'icône \"play\" \n",
    "- Pour afficher une cellule 'Markdown', pressez SHIFT+ENTER ou cliquez sur l'icône \"play\" \n",
    "- Pour modifier une cellule 'Markdown', double-cliquez dessus\n",
    "---"
   ]
  },
  {
   "cell_type": "markdown",
   "metadata": {},
   "source": [
    "### I - Préparation de l'espace de travail\n",
    "\n",
    "Par défaut, le répertoire de travail est d'office attribué au répertoire de l'environnement par Jupyter Hub.\n",
    "Puis nous devons indiquer à R les paquets à charger qui seront nécessaires pour l'analyse. \n"
   ]
  },
  {
   "cell_type": "code",
   "execution_count": null,
   "metadata": {},
   "outputs": [],
   "source": [
    "# Chargement des packages dans l'environnement présent\n",
    "library(Matrix)\n",
    "library(lattice)\n",
    "library(fdrtool)\n",
    "library(rpart)\n",
    "library(Biobase)\n",
    "library(Biostrings)\n",
    "library(mouse4302cdf)\n",
    "library(ggplot2)\n",
    "library(limma)\n",
    "library(affy)\n",
    "library(affyPLM)\n",
    "library(simpleaffy)\n",
    "library(genefilter)"
   ]
  },
  {
   "cell_type": "markdown",
   "metadata": {},
   "source": [
    "### II - Analyse de données\n",
    "\n",
    "\n",
    "Les donnée utilisées ici sont des données d’expression (puces d’expression de type Affymetrix).\n",
    "Les données sont stockées sur le serveur Plasma\n",
    "\n",
    "Une analyse classique consiste en :\n",
    "- lecture des données\n",
    "- contrôle qualité des données\n",
    "- passage en log2 et normalisation\n",
    "- plots des résultats\n"
   ]
  },
  {
   "cell_type": "markdown",
   "metadata": {},
   "source": [
    "### 1 - Récupération des données\n",
    "\n",
    "Les fichiers nécessaires étant déjà présents sur le serveur, on y accède via leur chemin, et les données sont chargées dans l'objet R adéquat."
   ]
  },
  {
   "cell_type": "code",
   "execution_count": null,
   "metadata": {},
   "outputs": [],
   "source": [
    "# Chemin d'accès aux données sur plasmabio :\n",
    "celpath = \"/srv/data/meg-m1-ue1/DataTP5/\"\n",
    "\n",
    "# Import des données d'intensité de fluorescence brutes des sondes depuis les fichiers CEL, \n",
    "# et ajout dans un objet R AffyBatch\n",
    "data = ReadAffy(celfile.path=celpath)\n",
    "ph = data@phenoData\n",
    "ph@data"
   ]
  },
  {
   "cell_type": "code",
   "execution_count": null,
   "metadata": {},
   "outputs": [],
   "source": [
    "#Récupération de l'annotation des sondes\n",
    "feat = data@featureData\n",
    "feat\n",
    "feat@data"
   ]
  },
  {
   "cell_type": "markdown",
   "metadata": {},
   "source": [
    "\n",
    "### 2 - Contrôle qualité des données\n"
   ]
  },
  {
   "cell_type": "code",
   "execution_count": null,
   "metadata": {},
   "outputs": [],
   "source": [
    "# Attribution de noms informatifs aux échantillons\n",
    "ph@data[ ,1] = c(\"Testis_E13_1\",\"Testis_E13_2\",\"Testis_E13_3\",\"Testis_P0_1\",\"Testis_P0_2\",\"Testis_P0_3\",\"Ovary_E13_1\",\"Ovary_E13_2\",\"Ovary_E13_3\", \"Ovary_P0_1\", \"Ovary_P0_2\", \"Ovary_P0_3\")"
   ]
  },
  {
   "cell_type": "markdown",
   "metadata": {},
   "source": [
    "#### Histogrammes de distribution des données \n",
    "Puis nous créons 2 histogrammes de la distribution des données (avec ggplot2).\n",
    "Le premier affiche la répartition des données brutes, le second celle des valeurs passées en log2."
   ]
  },
  {
   "cell_type": "code",
   "execution_count": null,
   "metadata": {},
   "outputs": [],
   "source": [
    "# Récupérations des intensités PM (sondes Perfect Match dans les probe sets)\n",
    "pmexp = pm(data)\n",
    "\n",
    "# initialisation de 3 vecteurs\n",
    "sampleNames = vector()\n",
    "nologs = vector()\n",
    "logs = vector()\n",
    "\n",
    "# remplissage des vecteurs avec les données\n",
    "for (i in 1:12)\n",
    "{\n",
    "  sampleNames = c(sampleNames,rep(ph@data[i,1],dim(pmexp)[1]))\n",
    "  nologs = c(nologs, pmexp[,i])\n",
    "  logs = c(logs,log2(pmexp[,i]))\n",
    "}\n",
    "\n",
    "# Après avoir rempli les vecteurs, nous combinons sampleNames et nologs ou logs dans 2 dataframes\n",
    "nologData = data.frame(nologInt=nologs,sampleName=sampleNames)\n",
    "logData = data.frame(logInt=logs,sampleName=sampleNames)"
   ]
  },
  {
   "cell_type": "code",
   "execution_count": null,
   "metadata": {},
   "outputs": [],
   "source": [
    "# Maintenant nous pouvons créer les 2 histogrammes: \n",
    "\n",
    "# Decide plots size \n",
    "options(repr.plot.width=18, repr.plot.height= 7)\n",
    "\n",
    "# Histogramme avec les valeurs brutes\n",
    "ggplot(nologData, aes(nologInt, colour = sampleName)) +\n",
    " geom_density() +\n",
    " theme_bw(base_size = 20)\n",
    "   \n",
    "# Histogramme avec les valeurs en log2\n",
    "ggplot(logData, aes(logInt, colour = sampleName)) +\n",
    " geom_density() +\n",
    " theme_bw(base_size = 20)"
   ]
  },
  {
   "cell_type": "markdown",
   "metadata": {},
   "source": [
    "#### Boxplots de distribution des données \n",
    "Des boxplots permettent de comparer la répartition des données entre échantillons.\n"
   ]
  },
  {
   "cell_type": "code",
   "execution_count": null,
   "metadata": {},
   "outputs": [],
   "source": [
    "options(repr.plot.width=12, repr.plot.height= 7)\n",
    "\n",
    "ggplot(logData,aes(sampleName,logInt)) + \n",
    " geom_boxplot() +\n",
    " theme_grey(base_size = 17)\n"
   ]
  },
  {
   "cell_type": "markdown",
   "metadata": {},
   "source": [
    "#### MA plots\n",
    "Les plots MA permettent de visualiser la variablité de l'expression des gènes, et sa répartition en fonction du niveau d'expression.\n",
    "\n"
   ]
  },
  {
   "cell_type": "code",
   "execution_count": null,
   "metadata": {},
   "outputs": [],
   "source": [
    "MAplot(data,which=3)"
   ]
  },
  {
   "cell_type": "markdown",
   "metadata": {},
   "source": [
    "On peut aussi avoir ces plots dans des fichiers séparés, dans la colonne de gauche"
   ]
  },
  {
   "cell_type": "code",
   "execution_count": null,
   "metadata": {},
   "outputs": [],
   "source": [
    "# Création des MA plots pour chaque échantillon, chacun dans un fichier séparé, qui apparait dans la colonne de gauche.\n",
    "\n",
    "for (i in 4:5)\n",
    "{\n",
    "  name = paste(\"MAplot\",i,\".jpg\",sep=\"\")\n",
    "  jpeg(name, width=800, height=600)\n",
    "  MAplot(data,which=i)\n",
    "  dev.off()\n",
    "}"
   ]
  },
  {
   "cell_type": "markdown",
   "metadata": {},
   "source": [
    "### 3 - Normalisation des données\n",
    "Données normalisées avec la méthode GCRMA, une des plus aboutie actuellement. L'effet de la normalisation se voit grâce aux mêmes plots. "
   ]
  },
  {
   "cell_type": "code",
   "execution_count": null,
   "metadata": {},
   "outputs": [],
   "source": [
    "# Chargement de l'objet \"data_gcrma.RData\", pour le réintégrer dans la procédure d'analyse\n",
    "load(\"data_gcrma.RData\")\n",
    "\n",
    "# Box plots des valeurs normalisées\n",
    "# création d'une data frame avec seulement les valeurs d'expression normalisées\n",
    "normexpr.gcrma = data.frame(exprs(data.gcrma))\n",
    "\n",
    "# initialisation des vecteurs\n",
    "sampleNames = vector()\n",
    "normlogs = vector()\n",
    "\n",
    "# remplissage des vecteurs\n",
    "for (i in 1:12)\n",
    "{\n",
    "    sampleNames = c(sampleNames,rep(ph@data[i,1],dim(data.gcrma)[1]))\n",
    "    normlogs = c(normlogs,normexpr.gcrma[,i])\n",
    "}\n",
    "\n",
    "# création de la dataframe avec les 2 vecteurs\n",
    "normData = data.frame(norm_logInt=normlogs,sampleName=sampleNames)\n",
    "\n",
    "\n",
    "# création des graphs\n",
    "dataBox3 = ggplot(normData, aes(sampleName,norm_logInt))\n",
    "dataBox3 + geom_boxplot() + ylim(2,16) + theme_grey(base_size = 17) + ggtitle(\"After normalization\")\n",
    "\n",
    "MAplot(data.gcrma,which=3)"
   ]
  },
  {
   "cell_type": "markdown",
   "metadata": {},
   "source": [
    "### 4 - Groupement des échantillons : PCA (Principal Componant Analysis).  \n",
    "\n"
   ]
  },
  {
   "cell_type": "code",
   "execution_count": null,
   "metadata": {},
   "outputs": [],
   "source": [
    "# Création d'un plot PCA avec ggplot2, à partir des données normalisées\n",
    "data.PCA = prcomp(t(normexpr.gcrma),scale.=FALSE)\n",
    "\n",
    "# la part de la variation expliquée par chaque axe est le carré de sdev (standard deviation),\n",
    "# un des éléments fournis par la fonction prcomp()\n",
    "pca.var = data.PCA$sdev^2\n",
    "# et on l'exprime en % du total :\n",
    "pca.var.per = round(pca.var/sum(pca.var)*100, 1)\n",
    "\n",
    "# formatage des données\n",
    "pca.datagg = data.frame(Sample = ph@data[ ,1],\n",
    "                        X = data.PCA$x[,1],\n",
    "                        Y = data.PCA$x[,2])\n",
    "# Make plot wider \n",
    "options(repr.plot.width=19, repr.plot.height=11)\n",
    "\n",
    "# PCA plot avec ggplot2 \n",
    "ggplot(data = pca.datagg, aes (x=X, y=Y, label = Sample, colour = Sample)) +\n",
    "  geom_text(size = 6.5) +\n",
    "  xlab(paste (\"PC1 - \", pca.var.per[1], \" %\", sep = \"\")) +\n",
    "  ylab(paste (\"PC2 - \", pca.var.per[2], \" %\", sep = \"\")) +\n",
    "  theme_classic(base_size = 20) + \n",
    "  theme (legend.position = \"none\") +\n",
    "  ggtitle(\"  PCA plot Testis & Ovary samples\")\n",
    "\n",
    "\n"
   ]
  },
  {
   "cell_type": "markdown",
   "metadata": {},
   "source": [
    "\n",
    "\n",
    "----\n",
    "\n",
    "Les éléments chargés dans l'environnement sont indiqués via la commande suivante : "
   ]
  },
  {
   "cell_type": "code",
   "execution_count": null,
   "metadata": {},
   "outputs": [],
   "source": [
    "sessionInfo()"
   ]
  },
  {
   "cell_type": "code",
   "execution_count": null,
   "metadata": {},
   "outputs": [],
   "source": []
  }
 ],
 "metadata": {
  "kernelspec": {
   "display_name": "R",
   "language": "R",
   "name": "ir"
  },
  "language_info": {
   "codemirror_mode": "r",
   "file_extension": ".r",
   "mimetype": "text/x-r-source",
   "name": "R",
   "pygments_lexer": "r",
   "version": "3.6.1"
  }
 },
 "nbformat": 4,
 "nbformat_minor": 4
}
